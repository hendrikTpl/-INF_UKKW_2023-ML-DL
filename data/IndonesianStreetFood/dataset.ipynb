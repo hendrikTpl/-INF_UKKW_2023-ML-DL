{
 "cells": [
  {
   "cell_type": "code",
   "execution_count": 1,
   "id": "3e5dfb8b",
   "metadata": {},
   "outputs": [],
   "source": [
    "import pandas as pd \n",
    "import glob"
   ]
  },
  {
   "cell_type": "code",
   "execution_count": 2,
   "id": "f4c93f5e",
   "metadata": {},
   "outputs": [],
   "source": [
    "mieayam = glob.glob('train/mieayam/*.*') \n",
    "bakso = glob.glob('train/bakso/*.*')\n",
    "batagor = glob.glob('train/batagor/*.*')"
   ]
  },
  {
   "cell_type": "code",
   "execution_count": 3,
   "id": "646a2bb9",
   "metadata": {},
   "outputs": [],
   "source": [
    "dataset_list = list() "
   ]
  },
  {
   "cell_type": "code",
   "execution_count": 4,
   "id": "d5ea5c88",
   "metadata": {},
   "outputs": [],
   "source": [
    "for bak in bakso: dataset_list.append({'file':bak,'label':0})\n",
    "for bat in batagor: dataset_list.append({'file':bat,'label':1})\n",
    "for mie in mieayam: dataset_list.append({'file':mie,'label':2}) "
   ]
  },
  {
   "cell_type": "code",
   "execution_count": 5,
   "id": "8d434c47",
   "metadata": {},
   "outputs": [],
   "source": [
    "train_df = pd.DataFrame(dataset_list)"
   ]
  },
  {
   "cell_type": "code",
   "execution_count": 6,
   "id": "74102f38",
   "metadata": {},
   "outputs": [],
   "source": [
    "train_df.to_csv (r'train_csv.csv', index = False, header=True)"
   ]
  },
  {
   "cell_type": "code",
   "execution_count": null,
   "id": "19e0e495",
   "metadata": {},
   "outputs": [],
   "source": []
  }
 ],
 "metadata": {
  "kernelspec": {
   "display_name": "Python 3 (ipykernel)",
   "language": "python",
   "name": "python3"
  },
  "language_info": {
   "codemirror_mode": {
    "name": "ipython",
    "version": 3
   },
   "file_extension": ".py",
   "mimetype": "text/x-python",
   "name": "python",
   "nbconvert_exporter": "python",
   "pygments_lexer": "ipython3",
   "version": "3.9.13"
  }
 },
 "nbformat": 4,
 "nbformat_minor": 5
}
